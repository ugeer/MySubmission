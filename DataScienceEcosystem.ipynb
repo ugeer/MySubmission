{
 "cells": [
  {
   "cell_type": "markdown",
   "id": "f3d244fe-4406-4af3-a6be-68de25391dd0",
   "metadata": {},
   "source": [
    "#Data Science Tools and Ecosystem"
   ]
  },
  {
   "cell_type": "markdown",
   "id": "49ab73e9-2b56-462a-b0e2-d7ce214fdc3f",
   "metadata": {},
   "source": [
    "In this notebook, Data Science Tools and Ecosystem are summarized."
   ]
  },
  {
   "cell_type": "markdown",
   "id": "c23ca19e-1858-4893-867a-8d57bee6cd92",
   "metadata": {},
   "source": [
    "Some of the popular languages that Data Scientists use are:\n",
    "    1.python\n",
    "    2.SQL\n",
    "    3. R language\n",
    "    4. JAVA\n",
    "    5. C++\n",
    "    6. HTML"
   ]
  },
  {
   "cell_type": "markdown",
   "id": "af05c44d-2f21-4ce2-b691-c9a511e350b5",
   "metadata": {},
   "source": [
    "Some of the commonly used libraries used by Data Scientists include:\n",
    "    1. tensorflow\n",
    "    2. pytorch\n",
    "    3. Matplotlib\n",
    "    "
   ]
  },
  {
   "cell_type": "markdown",
   "id": "28d961cb-7507-4222-b3a2-8744774481c9",
   "metadata": {},
   "source": [
    "Data Scienc Tools\n",
    "| Environment|\n",
    "|------------|\n",
    "|Apache Spark|\n",
    "|MATLAB.     |\n",
    "|EXCEL.      |\n"
   ]
  },
  {
   "cell_type": "markdown",
   "id": "0e67048e-18d4-45c3-9f80-bb08a6e156ed",
   "metadata": {},
   "source": [
    "###Below are a few examples of evaluating arithmetic expressions in Python"
   ]
  },
  {
   "cell_type": "code",
   "execution_count": 1,
   "id": "65a9d7b4-a2bd-4f56-a4f6-4ea95f266058",
   "metadata": {},
   "outputs": [
    {
     "data": {
      "text/plain": [
       "17"
      ]
     },
     "execution_count": 1,
     "metadata": {},
     "output_type": "execute_result"
    }
   ],
   "source": [
    "(3*4)+5\n",
    "#This a simple arithmetic expression to mutiply then add integers\n"
   ]
  },
  {
   "cell_type": "code",
   "execution_count": 2,
   "id": "95ae82f5-7074-4d02-ae15-c9256d4d4fcf",
   "metadata": {},
   "outputs": [
    {
     "data": {
      "text/plain": [
       "3.3333333333333335"
      ]
     },
     "execution_count": 2,
     "metadata": {},
     "output_type": "execute_result"
    }
   ],
   "source": [
    "200/60\n",
    "#This will convert 200 minutes to hours by diving by 60"
   ]
  },
  {
   "cell_type": "markdown",
   "id": "cd3f1fac-0bab-4349-8ff8-84eee704fc74",
   "metadata": {},
   "source": [
    "**Objectives:\n",
    "- list of languages used in data science\n",
    "- list of tools used in data science\n",
    "- simple arithmetic expression"
   ]
  }
 ],
 "metadata": {
  "kernelspec": {
   "display_name": "Python",
   "language": "python",
   "name": "conda-env-python-py"
  },
  "language_info": {
   "codemirror_mode": {
    "name": "ipython",
    "version": 3
   },
   "file_extension": ".py",
   "mimetype": "text/x-python",
   "name": "python",
   "nbconvert_exporter": "python",
   "pygments_lexer": "ipython3",
   "version": "3.7.12"
  }
 },
 "nbformat": 4,
 "nbformat_minor": 5
}
